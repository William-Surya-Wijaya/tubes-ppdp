{
 "cells": [
  {
   "attachments": {},
   "cell_type": "markdown",
   "metadata": {},
   "source": [
    "<center><div style=\"font-size : 20px; font-weight : bold; color : darkbue;\">LAPORAN TUGAS BESAR</div>\n",
    "<div>Tubes Tahap-1: Pengelompokan dg k-Means</div>\n",
    "<hr>\n",
    "<div>6182001003 | Rivaldi Godjali - 6182001004 | William Surya W</div>"
   ]
  },
  {
   "cell_type": "code",
   "execution_count": 249,
   "metadata": {},
   "outputs": [],
   "source": [
    "#import library\n",
    "import pandas as pd;\n",
    "import numpy as np;\n",
    "import matplotlib.pyplot as plt;\n",
    "\n",
    "import pickle;\n",
    "\n",
    "from sklearn.cluster import KMeans;\n",
    "from sklearn.metrics import silhouette_score;\n",
    "\n",
    "from sklearn.model_selection import train_test_split;"
   ]
  },
  {
   "cell_type": "code",
   "execution_count": 250,
   "metadata": {},
   "outputs": [],
   "source": [
    "#load data\n",
    "mall = pd.read_csv(\"https://raw.githubusercontent.com/shrk-sh-ioai/tubes-ppdp/main/mall-customer-dt/mall-customers.csv\", sep=\",\", encoding='cp1252');\n"
   ]
  },
  {
   "cell_type": "code",
   "execution_count": 251,
   "metadata": {},
   "outputs": [
    {
     "name": "stdout",
     "output_type": "stream",
     "text": [
      "Data with NaN values :\n",
      "Empty DataFrame\n",
      "Columns: [CustomerID, Gender, Age, Annual Income (k$), Spending Score (1-100)]\n",
      "Index: []\n"
     ]
    }
   ],
   "source": [
    "#checking data - NaN value\n",
    "dfCheck = mall[mall.isna().any(axis=1)];\n",
    "print(\"Data with NaN values :\"); print(dfCheck);"
   ]
  },
  {
   "cell_type": "code",
   "execution_count": 252,
   "metadata": {},
   "outputs": [
    {
     "name": "stdout",
     "output_type": "stream",
     "text": [
      "Minimum values :\n",
      "CustomerID                     1\n",
      "Gender                    Female\n",
      "Age                           18\n",
      "Annual Income (k$)            15\n",
      "Spending Score (1-100)         1\n",
      "dtype: object\n"
     ]
    }
   ],
   "source": [
    "#cheking data - Minimum value\n",
    "print(\"Minimum values :\"); print(mall.min());"
   ]
  },
  {
   "cell_type": "code",
   "execution_count": 253,
   "metadata": {},
   "outputs": [
    {
     "name": "stdout",
     "output_type": "stream",
     "text": [
      "Maximum values :\n",
      "CustomerID                 200\n",
      "Gender                    Male\n",
      "Age                         70\n",
      "Annual Income (k$)         137\n",
      "Spending Score (1-100)      99\n",
      "dtype: object\n"
     ]
    }
   ],
   "source": [
    "#checking data - Maximum value\n",
    "print(\"Maximum values :\"); print(mall.max());"
   ]
  },
  {
   "cell_type": "code",
   "execution_count": 254,
   "metadata": {},
   "outputs": [
    {
     "name": "stdout",
     "output_type": "stream",
     "text": [
      "     CustomerID  Gender  Age  Annual Income (k$)  Spending Score (1-100)  \\\n",
      "0             1    Male   19                  15                      39   \n",
      "1             2    Male   21                  15                      81   \n",
      "2             3  Female   20                  16                       6   \n",
      "3             4  Female   23                  16                      77   \n",
      "4             5  Female   31                  17                      40   \n",
      "..          ...     ...  ...                 ...                     ...   \n",
      "195         196  Female   35                 120                      79   \n",
      "196         197  Female   45                 126                      28   \n",
      "197         198    Male   32                 126                      74   \n",
      "198         199    Male   32                 137                      18   \n",
      "199         200    Male   30                 137                      83   \n",
      "\n",
      "    Spending_Class Gender_Class Age_Class  \n",
      "0                4            1         0  \n",
      "1                9            1         0  \n",
      "2                1            0         0  \n",
      "3                8            0         0  \n",
      "4                4            0         1  \n",
      "..             ...          ...       ...  \n",
      "195              8            0         2  \n",
      "196              3            0         3  \n",
      "197              8            1         1  \n",
      "198              2            1         1  \n",
      "199              9            1         1  \n",
      "\n",
      "[200 rows x 8 columns]\n"
     ]
    }
   ],
   "source": [
    "#preparing data\n",
    "\n",
    "# spending score classification ----------\n",
    "spend_classes = [\"1\",\"2\",\"3\",\"4\",\"5\",\"6\",\"7\",\"8\",\"9\",\"10\"];\n",
    "\n",
    "spend_items = pd.IntervalIndex.from_tuples([(0, 11), (11, 21), (21, 31), (31, 41), (41, 51), (51,61), (61,71), (71,81), (81,91), (91,101)], closed='left');\n",
    "\n",
    "mall['Spending_Class'] = np.array(spend_classes)[\n",
    "    pd.cut(mall[\"Spending Score (1-100)\"],\n",
    "    bins = spend_items).cat.codes\n",
    "];\n",
    "\n",
    "# gender classification ----------\n",
    "gender_classes = ['0','1'];\n",
    "\n",
    "gender_items = [\n",
    "    (mall['Gender'] == \"Female\"),\n",
    "    (mall['Gender'] == \"Male\"),\n",
    "];\n",
    "\n",
    "mall['Gender_Class'] = np.select(gender_items, gender_classes);\n",
    "\n",
    "# age classification ----------\n",
    "# 15-24 tahun: Kelompok usia muda\n",
    "# 25-34 tahun: Kelompok usia pekerja awal\n",
    "# 35-44 tahun: Kelompok usia paruh baya\n",
    "# 45-54 tahun: Kelompok usia pra-pensiun\n",
    "# 55-64 tahun: Kelompok usia pensiun\n",
    "# 65 tahun ke atas: Kelompok usia lanjut\n",
    "\n",
    "age_classes = ['0','1','2','3','4','5'];\n",
    "\n",
    "age_items = [\n",
    "    (mall['Age'] >= 15) & (mall['Age'] <= 24),\n",
    "    (mall['Age'] >= 25) & (mall['Age'] <= 34),\n",
    "    (mall['Age'] >= 35) & (mall['Age'] <= 44),\n",
    "    (mall['Age'] >= 45) & (mall['Age'] <= 54),\n",
    "    (mall['Age'] >= 55) & (mall['Age'] <= 64),\n",
    "    (mall['Age'] >= 65),\n",
    "];\n",
    "\n",
    "mall['Age_Class'] = np.select(age_items, age_classes);\n",
    "\n",
    "print(mall);"
   ]
  },
  {
   "cell_type": "code",
   "execution_count": 255,
   "metadata": {},
   "outputs": [
    {
     "name": "stdout",
     "output_type": "stream",
     "text": [
      "    Gender_Class Age_Class  Annual Income (k$)  Spending Score (1-100)\n",
      "0              1         0                  15                      39\n",
      "1              1         0                  15                      81\n",
      "2              0         0                  16                       6\n",
      "3              0         0                  16                      77\n",
      "4              0         1                  17                      40\n",
      "..           ...       ...                 ...                     ...\n",
      "195            0         2                 120                      79\n",
      "196            0         3                 126                      28\n",
      "197            1         1                 126                      74\n",
      "198            1         1                 137                      18\n",
      "199            1         1                 137                      83\n",
      "\n",
      "[200 rows x 4 columns]\n"
     ]
    }
   ],
   "source": [
    "# searching best-k ----------\n",
    "mall_x = mall[[\n",
    "    'Gender_Class',\n",
    "    'Age_Class',\n",
    "    'Annual Income (k$)',\n",
    "    'Spending Score (1-100)'\n",
    "]];\n",
    "\n",
    "mall_x_np = np.array(mall_x.values);\n",
    "\n",
    "print(mall_x);\n",
    "\n",
    "# kmeans model train ---------\n",
    "intertia = [];\n",
    "silhouette_coefficients = [];\n",
    "\n",
    "k_range = range(2,10);\n",
    "for k in k_range :\n",
    "    \n",
    "    kmeans_model = KMeans(\n",
    "        n_clusters = k,\n",
    "        random_state=0\n",
    "    ).fit(mall_x_np);\n",
    "    \n",
    "    intertia.append(kmeans_model.inertia_);\n",
    "    \n",
    "    score = silhouette_score(\n",
    "        mall_x_np,\n",
    "        kmeans_model.labels_,\n",
    "        metric='euclidean'\n",
    "    );\n",
    "    \n",
    "    silhouette_coefficients.append(score);"
   ]
  },
  {
   "cell_type": "code",
   "execution_count": 256,
   "metadata": {},
   "outputs": [
    {
     "data": {
      "image/png": "[encoded data removed]",
      "text/plain": [
       "<Figure size 432x288 with 1 Axes>"
      ]
     },
     "metadata": {
      "needs_background": "light"
     },
     "output_type": "display_data"
    }
   ],
   "source": [
    "# elbow Method Result Visualization\n",
    "plt.plot(k_range, intertia, marker= \"o\");\n",
    "\n",
    "plt.xlabel('k'); plt.xticks(np.arange(2, 10));\n",
    "plt.ylabel('Inertia'); plt.title('Elbow Method');\n",
    "\n",
    "plt.show();"
   ]
  },
  {
   "cell_type": "code",
   "execution_count": 257,
   "metadata": {},
   "outputs": [
    {
     "data": {
      "image/png": "[encoded data removed]",
      "text/plain": [
       "<Figure size 432x288 with 1 Axes>"
      ]
     },
     "metadata": {
      "needs_background": "light"
     },
     "output_type": "display_data"
    }
   ],
   "source": [
    "# silhouette Coefficient Result Visualization\n",
    "plt.plot(k_range, silhouette_coefficients, marker= \"o\");\n",
    "\n",
    "plt.xlabel('k'); plt.xticks(np.arange(2, 10));\n",
    "plt.ylabel(\"Silhouette Coefficient\"); plt.title(\"AVG Silhouette Coefficient\");\n",
    "\n",
    "plt.show();"
   ]
  },
  {
   "cell_type": "code",
   "execution_count": 258,
   "metadata": {},
   "outputs": [
    {
     "name": "stdout",
     "output_type": "stream",
     "text": [
      "                         CustomerID         Age  Annual Income (k$)  \\\n",
      "CustomerID              3350.000000  -21.638191         1486.050251   \n",
      "Age                      -21.638191  195.133166           -4.548744   \n",
      "Annual Income (k$)      1486.050251   -4.548744          689.835578   \n",
      "Spending Score (1-100)    20.678392 -118.040201            6.716583   \n",
      "\n",
      "                        Spending Score (1-100)  \n",
      "CustomerID                           20.678392  \n",
      "Age                                -118.040201  \n",
      "Annual Income (k$)                    6.716583  \n",
      "Spending Score (1-100)              666.854271  \n"
     ]
    }
   ],
   "source": [
    "# covariant\n",
    "print(mall.cov());"
   ]
  },
  {
   "cell_type": "code",
   "execution_count": 261,
   "metadata": {},
   "outputs": [
    {
     "name": "stdout",
     "output_type": "stream",
     "text": [
      "[4 3 4 3 4 3 4 3 4 3 4 3 4 3 4 3 4 3 4 3 4 3 4 3 4 3 4 3 4 3 4 3 4 3 4 3 4\n",
      " 3 4 3 4 3 4 1 4 3 1 1 1 1 1 1 1 1 1 1 1 1 1 1 1 1 1 1 1 1 1 1 1 1 1 1 1 1\n",
      " 1 1 1 1 1 1 1 1 1 1 1 1 1 1 1 1 1 1 1 1 1 1 1 1 1 1 1 1 1 1 1 1 1 1 1 1 1\n",
      " 1 1 1 1 1 1 1 1 1 1 1 1 2 0 2 1 2 0 2 0 2 1 2 0 2 0 2 0 2 0 2 1 2 0 2 0 2\n",
      " 0 2 0 2 0 2 0 2 0 2 0 2 0 2 0 2 0 2 0 2 0 2 0 2 0 2 0 2 0 2 0 2 0 2 0 2 0\n",
      " 2 0 2 0 2 0 2 0 2 0 2 0 2 0 2]\n"
     ]
    }
   ],
   "source": [
    "# model-load\n",
    "kmeans_model = KMeans(n_clusters=5, random_state=0).fit(mall_x_np);\n",
    "\n",
    "# save kmeans model\n",
    "pickle.dump(kmeans_model, open('kmeans_model_mall','wb'));\n",
    "\n",
    "# load kmeans model\n",
    "loaded_model = pickle.load(open('kmeans_model_mall','rb'));\n",
    "y_pred = loaded_model.predict(mall_x_np);\n",
    "\n",
    "print(y_pred);"
   ]
  }
 ],
 "metadata": {
  "kernelspec": {
   "display_name": "Python 3.8.5 32-bit",
   "language": "python",
   "name": "python3"
  },
  "language_info": {
   "codemirror_mode": {
    "name": "ipython",
    "version": 3
   },
   "file_extension": ".py",
   "mimetype": "text/x-python",
   "name": "python",
   "nbconvert_exporter": "python",
   "pygments_lexer": "ipython3",
   "version": "3.8.5"
  },
  "orig_nbformat": 4,
  "vscode": {
   "interpreter": {
    "hash": "7e391e6a0b49cd371207b6d1446747f6b0809d4961742e4a06ba0659d71a6059"
   }
  }
 },
 "nbformat": 4,
 "nbformat_minor": 2
}
