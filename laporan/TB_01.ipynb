{
 "cells": [
  {
   "attachments": {},
   "cell_type": "markdown",
   "metadata": {},
   "source": [
    "<center><div style=\"font-size : 20px; font-weight : bold; color : darkbue;\">LAPORAN TUGAS BESAR</div>\n",
    "<div>Tubes Tahap-1: Pengelompokan dg k-Means</div>\n",
    "<hr>\n",
    "<div>6182001003 | Rivaldi Godjali - 6182001004 | William Surya W</div>"
   ]
  },
  {
   "cell_type": "code",
   "execution_count": 52,
   "metadata": {},
   "outputs": [],
   "source": [
    "#import library\n",
    "import pandas as pd;\n",
    "import numpy as np;"
   ]
  },
  {
   "cell_type": "code",
   "execution_count": 53,
   "metadata": {},
   "outputs": [],
   "source": [
    "#load data\n",
    "mall = pd.read_csv(\"https://raw.githubusercontent.com/shrk-sh-ioai/tubes-ppdp/main/mall-customer-dt/mall-customers.csv\", sep=\",\", encoding='cp1252');\n"
   ]
  },
  {
   "cell_type": "code",
   "execution_count": 54,
   "metadata": {},
   "outputs": [
    {
     "name": "stdout",
     "output_type": "stream",
     "text": [
      "Data with NaN values :\n",
      "Empty DataFrame\n",
      "Columns: [CustomerID, Gender, Age, Annual Income (k$), Spending Score (1-100)]\n",
      "Index: []\n"
     ]
    }
   ],
   "source": [
    "#checking data - NaN value\n",
    "dfCheck = mall[mall.isna().any(axis=1)];\n",
    "print(\"Data with NaN values :\"); print(dfCheck);"
   ]
  },
  {
   "cell_type": "code",
   "execution_count": 55,
   "metadata": {},
   "outputs": [
    {
     "name": "stdout",
     "output_type": "stream",
     "text": [
      "Minimum values :\n",
      "CustomerID                     1\n",
      "Gender                    Female\n",
      "Age                           18\n",
      "Annual Income (k$)            15\n",
      "Spending Score (1-100)         1\n",
      "dtype: object\n"
     ]
    }
   ],
   "source": [
    "#cheking data - Minimum value\n",
    "print(\"Minimum values :\"); print(mall.min());"
   ]
  },
  {
   "cell_type": "code",
   "execution_count": 56,
   "metadata": {},
   "outputs": [
    {
     "name": "stdout",
     "output_type": "stream",
     "text": [
      "Maximum values :\n",
      "CustomerID                 200\n",
      "Gender                    Male\n",
      "Age                         70\n",
      "Annual Income (k$)         137\n",
      "Spending Score (1-100)      99\n",
      "dtype: object\n"
     ]
    }
   ],
   "source": [
    "#checking data - Maximum value\n",
    "print(\"Maximum values :\"); print(mall.max());"
   ]
  },
  {
   "cell_type": "code",
   "execution_count": 57,
   "metadata": {},
   "outputs": [
    {
     "name": "stdout",
     "output_type": "stream",
     "text": [
      "     CustomerID  Gender  Age  Annual Income (k$)  Spending Score (1-100) Score\n",
      "0             1    Male   19                  15                      39     4\n",
      "1             2    Male   21                  15                      81     9\n",
      "2             3  Female   20                  16                       6     1\n",
      "3             4  Female   23                  16                      77     8\n",
      "4             5  Female   31                  17                      40     4\n",
      "..          ...     ...  ...                 ...                     ...   ...\n",
      "195         196  Female   35                 120                      79     8\n",
      "196         197  Female   45                 126                      28     3\n",
      "197         198    Male   32                 126                      74     8\n",
      "198         199    Male   32                 137                      18     2\n",
      "199         200    Male   30                 137                      83     9\n",
      "\n",
      "[200 rows x 6 columns]\n"
     ]
    }
   ],
   "source": [
    "#preparing data\n",
    "cuts = [\"1\",\"2\",\"3\",\"4\",\"5\",\"6\",\"7\",\"8\",\"9\",\"10\"];\n",
    "bins = pd.IntervalIndex.from_tuples([(0, 11), (11, 21), (21, 31), (31, 41), (41, 51), (51,61), (61,71), (71,81), (81,91), (91,101)], closed='left');\n",
    "\n",
    "mall['Score'] = np.array(cuts)[\n",
    "    pd.cut(mall[\"Spending Score (1-100)\"],\n",
    "    bins = bins).cat.codes\n",
    "    ];\n",
    "\n",
    "print(mall);"
   ]
  }
 ],
 "metadata": {
  "kernelspec": {
   "display_name": "Python 3.8.5 32-bit",
   "language": "python",
   "name": "python3"
  },
  "language_info": {
   "codemirror_mode": {
    "name": "ipython",
    "version": 3
   },
   "file_extension": ".py",
   "mimetype": "text/x-python",
   "name": "python",
   "nbconvert_exporter": "python",
   "pygments_lexer": "ipython3",
   "version": "3.8.5"
  },
  "orig_nbformat": 4,
  "vscode": {
   "interpreter": {
    "hash": "7e391e6a0b49cd371207b6d1446747f6b0809d4961742e4a06ba0659d71a6059"
   }
  }
 },
 "nbformat": 4,
 "nbformat_minor": 2
}
