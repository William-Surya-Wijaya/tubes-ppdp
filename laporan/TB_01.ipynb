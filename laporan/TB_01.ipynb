{
 "cells": [
  {
   "attachments": {},
   "cell_type": "markdown",
   "metadata": {},
   "source": [
    "<center><div style=\"font-size : 20px; font-weight : bold; color : darkbue;\">LAPORAN TUGAS BESAR</div>\n",
    "<div>Tubes Tahap-1: Pengelompokan dg k-Means</div>\n",
    "<hr>\n",
    "<div>6182001003 | Rivaldi Godjali - 6182001004 | William Surya W</div>"
   ]
  },
  {
   "cell_type": "code",
   "execution_count": 349,
   "metadata": {},
   "outputs": [],
   "source": [
    "#import library\n",
    "import pandas as pd;\n",
    "import numpy as np;\n",
    "import matplotlib.pyplot as plt;\n",
    "\n",
    "import time;\n",
    "\n",
    "import pickle;\n",
    "\n",
    "from sklearn.cluster import KMeans;\n",
    "from sklearn.metrics import silhouette_score;\n",
    "\n",
    "from sklearn.model_selection import train_test_split;\n",
    "\n",
    "from sklearn.cluster import AgglomerativeClustering;\n",
    "import scipy.cluster.hierarchy as sch;"
   ]
  },
  {
   "cell_type": "code",
   "execution_count": 350,
   "metadata": {},
   "outputs": [],
   "source": [
    "#load data\n",
    "mall = pd.read_csv(\"https://raw.githubusercontent.com/shrk-sh-ioai/tubes-ppdp/main/mall-customer-dt/mall-customers.csv\", sep=\",\", encoding='cp1252');\n"
   ]
  },
  {
   "cell_type": "code",
   "execution_count": 351,
   "metadata": {},
   "outputs": [
    {
     "name": "stdout",
     "output_type": "stream",
     "text": [
      "Data with NaN values :\n",
      "Empty DataFrame\n",
      "Columns: [CustomerID, Gender, Age, Annual Income (k$), Spending Score (1-100)]\n",
      "Index: []\n"
     ]
    }
   ],
   "source": [
    "#checking data - NaN value\n",
    "dfCheck = mall[mall.isna().any(axis=1)];\n",
    "print(\"Data with NaN values :\"); print(dfCheck);"
   ]
  },
  {
   "cell_type": "code",
   "execution_count": 352,
   "metadata": {},
   "outputs": [
    {
     "name": "stdout",
     "output_type": "stream",
     "text": [
      "Minimum values :\n",
      "CustomerID                     1\n",
      "Gender                    Female\n",
      "Age                           18\n",
      "Annual Income (k$)            15\n",
      "Spending Score (1-100)         1\n",
      "dtype: object\n"
     ]
    }
   ],
   "source": [
    "#cheking data - Minimum value\n",
    "print(\"Minimum values :\"); print(mall.min());"
   ]
  },
  {
   "cell_type": "code",
   "execution_count": 353,
   "metadata": {},
   "outputs": [
    {
     "name": "stdout",
     "output_type": "stream",
     "text": [
      "Maximum values :\n",
      "CustomerID                 200\n",
      "Gender                    Male\n",
      "Age                         70\n",
      "Annual Income (k$)         137\n",
      "Spending Score (1-100)      99\n",
      "dtype: object\n"
     ]
    }
   ],
   "source": [
    "#checking data - Maximum value\n",
    "print(\"Maximum values :\"); print(mall.max());"
   ]
  },
  {
   "cell_type": "code",
   "execution_count": 354,
   "metadata": {},
   "outputs": [
    {
     "name": "stdout",
     "output_type": "stream",
     "text": [
      "     CustomerID  Gender  Age  Annual Income (k$)  Spending Score (1-100)  \\\n",
      "0             1    Male   19                  15                      39   \n",
      "1             2    Male   21                  15                      81   \n",
      "2             3  Female   20                  16                       6   \n",
      "3             4  Female   23                  16                      77   \n",
      "4             5  Female   31                  17                      40   \n",
      "..          ...     ...  ...                 ...                     ...   \n",
      "195         196  Female   35                 120                      79   \n",
      "196         197  Female   45                 126                      28   \n",
      "197         198    Male   32                 126                      74   \n",
      "198         199    Male   32                 137                      18   \n",
      "199         200    Male   30                 137                      83   \n",
      "\n",
      "    Spending_Class Gender_Class Age_Class  \n",
      "0                4            1         0  \n",
      "1                9            1         0  \n",
      "2                1            0         0  \n",
      "3                8            0         0  \n",
      "4                4            0         1  \n",
      "..             ...          ...       ...  \n",
      "195              8            0         2  \n",
      "196              3            0         3  \n",
      "197              8            1         1  \n",
      "198              2            1         1  \n",
      "199              9            1         1  \n",
      "\n",
      "[200 rows x 8 columns]\n"
     ]
    }
   ],
   "source": [
    "#preparing data\n",
    "\n",
    "# spending score classification ----------\n",
    "spend_classes = [\"1\",\"2\",\"3\",\"4\",\"5\",\"6\",\"7\",\"8\",\"9\",\"10\"];\n",
    "\n",
    "spend_items = pd.IntervalIndex.from_tuples([(0, 11), (11, 21), (21, 31), (31, 41), (41, 51), (51,61), (61,71), (71,81), (81,91), (91,101)], closed='left');\n",
    "\n",
    "mall['Spending_Class'] = np.array(spend_classes)[\n",
    "    pd.cut(mall[\"Spending Score (1-100)\"],\n",
    "    bins = spend_items).cat.codes\n",
    "];\n",
    "\n",
    "# gender classification ----------\n",
    "gender_classes = ['0','1'];\n",
    "\n",
    "gender_items = [\n",
    "    (mall['Gender'] == \"Female\"),\n",
    "    (mall['Gender'] == \"Male\"),\n",
    "];\n",
    "\n",
    "mall['Gender_Class'] = np.select(gender_items, gender_classes);\n",
    "\n",
    "# age classification ----------\n",
    "# 15-24 tahun: Kelompok usia muda\n",
    "# 25-34 tahun: Kelompok usia pekerja awal\n",
    "# 35-44 tahun: Kelompok usia paruh baya\n",
    "# 45-54 tahun: Kelompok usia pra-pensiun\n",
    "# 55-64 tahun: Kelompok usia pensiun\n",
    "# 65 tahun ke atas: Kelompok usia lanjut\n",
    "\n",
    "age_classes = ['0','1','2','3','4','5'];\n",
    "\n",
    "age_items = [\n",
    "    (mall['Age'] >= 15) & (mall['Age'] <= 24),\n",
    "    (mall['Age'] >= 25) & (mall['Age'] <= 34),\n",
    "    (mall['Age'] >= 35) & (mall['Age'] <= 44),\n",
    "    (mall['Age'] >= 45) & (mall['Age'] <= 54),\n",
    "    (mall['Age'] >= 55) & (mall['Age'] <= 64),\n",
    "    (mall['Age'] >= 65),\n",
    "];\n",
    "\n",
    "mall['Age_Class'] = np.select(age_items, age_classes);\n",
    "\n",
    "print(mall);"
   ]
  },
  {
   "cell_type": "code",
   "execution_count": 355,
   "metadata": {},
   "outputs": [
    {
     "name": "stdout",
     "output_type": "stream",
     "text": [
      "    Gender_Class  Age  Annual Income (k$)  Spending Score (1-100)\n",
      "0              1   19                  15                      39\n",
      "1              1   21                  15                      81\n",
      "2              0   20                  16                       6\n",
      "3              0   23                  16                      77\n",
      "4              0   31                  17                      40\n",
      "..           ...  ...                 ...                     ...\n",
      "195            0   35                 120                      79\n",
      "196            0   45                 126                      28\n",
      "197            1   32                 126                      74\n",
      "198            1   32                 137                      18\n",
      "199            1   30                 137                      83\n",
      "\n",
      "[200 rows x 4 columns]\n"
     ]
    }
   ],
   "source": [
    "# searching best-k ----------\n",
    "mall_x = mall[[\n",
    "    'Gender_Class',\n",
    "    'Age',\n",
    "    'Annual Income (k$)',\n",
    "    'Spending Score (1-100)'\n",
    "]];\n",
    "\n",
    "mall_x_np = np.array(mall_x.values);\n",
    "\n",
    "print(mall_x);\n",
    "\n",
    "# kmeans model train ---------\n",
    "intertia = [];\n",
    "silhouette_coefficients = [];\n",
    "\n",
    "k_range = range(2,10);\n",
    "for k in k_range :\n",
    "    \n",
    "    kmeans_model = KMeans(\n",
    "        n_clusters = k,\n",
    "        random_state=0\n",
    "    ).fit(mall_x_np);\n",
    "    \n",
    "    intertia.append(kmeans_model.inertia_);\n",
    "    \n",
    "    score = silhouette_score(\n",
    "        mall_x_np,\n",
    "        kmeans_model.labels_,\n",
    "        metric='euclidean'\n",
    "    );\n",
    "    \n",
    "    silhouette_coefficients.append(score);"
   ]
  },
  {
   "cell_type": "code",
   "execution_count": 356,
   "metadata": {},
   "outputs": [
    {
     "data": {
      "image/png": "[encoded data removed]",
      "text/plain": [
       "<Figure size 432x288 with 1 Axes>"
      ]
     },
     "metadata": {
      "needs_background": "light"
     },
     "output_type": "display_data"
    }
   ],
   "source": [
    "# elbow Method Result Visualization\n",
    "plt.plot(k_range, intertia, marker= \"o\");\n",
    "\n",
    "plt.xlabel('k'); plt.xticks(np.arange(2, 10));\n",
    "plt.ylabel('Inertia'); plt.title('Elbow Method');\n",
    "\n",
    "plt.show();"
   ]
  },
  {
   "cell_type": "code",
   "execution_count": 357,
   "metadata": {},
   "outputs": [
    {
     "data": {
      "image/png": "[encoded data removed]",
      "text/plain": [
       "<Figure size 432x288 with 1 Axes>"
      ]
     },
     "metadata": {
      "needs_background": "light"
     },
     "output_type": "display_data"
    }
   ],
   "source": [
    "# silhouette Coefficient Result Visualization\n",
    "plt.plot(k_range, silhouette_coefficients, marker= \"o\");\n",
    "\n",
    "plt.xlabel('k'); plt.xticks(np.arange(2, 10));\n",
    "plt.ylabel(\"Silhouette Coefficient\"); plt.title(\"AVG Silhouette Coefficient\");\n",
    "\n",
    "plt.show();"
   ]
  },
  {
   "cell_type": "code",
   "execution_count": 358,
   "metadata": {},
   "outputs": [
    {
     "name": "stdout",
     "output_type": "stream",
     "text": [
      "                         CustomerID         Age  Annual Income (k$)  \\\n",
      "CustomerID              3350.000000  -21.638191         1486.050251   \n",
      "Age                      -21.638191  195.133166           -4.548744   \n",
      "Annual Income (k$)      1486.050251   -4.548744          689.835578   \n",
      "Spending Score (1-100)    20.678392 -118.040201            6.716583   \n",
      "\n",
      "                        Spending Score (1-100)  \n",
      "CustomerID                           20.678392  \n",
      "Age                                -118.040201  \n",
      "Annual Income (k$)                    6.716583  \n",
      "Spending Score (1-100)              666.854271  \n"
     ]
    }
   ],
   "source": [
    "# covariant\n",
    "print(mall.cov());"
   ]
  },
  {
   "cell_type": "code",
   "execution_count": 359,
   "metadata": {},
   "outputs": [
    {
     "name": "stdout",
     "output_type": "stream",
     "text": [
      "0.45205475380756527\n",
      "Time :  0.08578753471374512\n"
     ]
    }
   ],
   "source": [
    "# model-load\n",
    "start = time.time();\n",
    "kmeans_model = KMeans(n_clusters=6, random_state=0).fit(mall_x_np);\n",
    "\n",
    "mall = mall[['Gender_Class', 'Age', 'Annual Income (k$)', 'Spending Score (1-100)']];\n",
    "mall['class'] = kmeans_model.predict(np.array(mall.values));\n",
    "\n",
    "score = silhouette_score(mall_x_np, kmeans_model.labels_,  metric='euclidean')\n",
    "print(score)\n",
    "\n",
    "print('Time : ', time.time()-start);\n",
    "\n",
    "# save kmeans model\n",
    "pickle.dump(kmeans_model, open('kmeans_model_mall','wb'));"
   ]
  },
  {
   "cell_type": "code",
   "execution_count": 360,
   "metadata": {},
   "outputs": [
    {
     "name": "stdout",
     "output_type": "stream",
     "text": [
      "[5 4 5 4 5 4 5 4 5 4 5 4 5 4 5 4 5 4 5 4 5 4 5 4 5 4 5 4 5 4 5 4 5 4 5 4 5\n",
      " 4 5 4 1 4 1 0 5 4 1 0 0 0 1 0 0 1 1 1 1 1 0 1 1 0 1 1 1 0 1 1 0 0 1 1 1 1\n",
      " 1 0 1 0 0 1 1 0 1 1 0 1 1 0 0 1 1 0 1 0 0 0 1 0 1 0 0 1 1 0 1 0 1 1 1 1 1\n",
      " 0 0 0 0 0 1 1 1 1 0 0 0 3 0 3 2 3 2 3 2 3 0 3 2 3 2 3 2 3 2 3 0 3 2 3 2 3\n",
      " 2 3 2 3 2 3 2 3 2 3 2 3 2 3 2 3 2 3 2 3 2 3 2 3 2 3 2 3 2 3 2 3 2 3 2 3 2\n",
      " 3 2 3 2 3 2 3 2 3 2 3 2 3 2 3]\n"
     ]
    }
   ],
   "source": [
    "# Object Cluster Variable\n",
    "object_cluster = kmeans_model.labels_;\n",
    "\n",
    "print(object_cluster);"
   ]
  },
  {
   "cell_type": "code",
   "execution_count": 361,
   "metadata": {},
   "outputs": [
    {
     "name": "stdout",
     "output_type": "stream",
     "text": [
      "[[ 0.34210526 27.         56.65789474 49.13157895]\n",
      " [ 0.44444444 56.15555556 53.37777778 49.08888889]\n",
      " [ 0.57142857 41.68571429 88.22857143 17.28571429]\n",
      " [ 0.46153846 32.69230769 86.53846154 82.12820513]\n",
      " [ 0.40909091 25.27272727 25.72727273 79.36363636]\n",
      " [ 0.38095238 44.14285714 25.14285714 19.52380952]]\n"
     ]
    }
   ],
   "source": [
    "# Object Centroids\n",
    "centroids = kmeans_model.cluster_centers_;\n",
    "\n",
    "print(centroids);"
   ]
  },
  {
   "cell_type": "code",
   "execution_count": 362,
   "metadata": {},
   "outputs": [
    {
     "name": "stdout",
     "output_type": "stream",
     "text": [
      "Cluster 1 : \n",
      "Rata Rata Umur :  27.0 \n",
      "Rata Rata Annual Income (k$) : 56.6578947368421 \n",
      "Rata Rata Spending Score (1-100) : 49.13157894736842 \n",
      "\n",
      "Cluster 2 : \n",
      "Rata Rata Umur :  56.15555555555556 \n",
      "Rata Rata Annual Income (k$) : 53.37777777777778 \n",
      "Rata Rata Spending Score (1-100) : 49.08888888888889 \n",
      "\n",
      "Cluster 3 : \n",
      "Rata Rata Umur :  41.68571428571428 \n",
      "Rata Rata Annual Income (k$) : 88.22857142857143 \n",
      "Rata Rata Spending Score (1-100) : 17.285714285714285 \n",
      "\n",
      "Cluster 4 : \n",
      "Rata Rata Umur :  32.69230769230769 \n",
      "Rata Rata Annual Income (k$) : 86.53846153846153 \n",
      "Rata Rata Spending Score (1-100) : 82.12820512820512 \n",
      "\n",
      "Cluster 5 : \n",
      "Rata Rata Umur :  25.272727272727273 \n",
      "Rata Rata Annual Income (k$) : 25.727272727272727 \n",
      "Rata Rata Spending Score (1-100) : 79.36363636363636 \n",
      "\n",
      "Cluster 6 : \n",
      "Rata Rata Umur :  44.142857142857146 \n",
      "Rata Rata Annual Income (k$) : 25.142857142857142 \n",
      "Rata Rata Spending Score (1-100) : 19.523809523809526 \n",
      "\n"
     ]
    }
   ],
   "source": [
    "# analisis clustering\n",
    "\n",
    "mall0 = mall.loc[(mall['class'] == 0)];\n",
    "print('Cluster 1 : \\nRata Rata Umur : ', mall0['Age'].mean(),'\\nRata Rata Annual Income (k$) :', mall0['Annual Income (k$)'].mean(), '\\nRata Rata Spending Score (1-100) :', mall0['Spending Score (1-100)'].mean(), \"\\n\");\n",
    "\n",
    "mall1 = mall.loc[(mall['class'] == 1)];\n",
    "print('Cluster 2 : \\nRata Rata Umur : ', mall1['Age'].mean(),'\\nRata Rata Annual Income (k$) :', mall1['Annual Income (k$)'].mean(), '\\nRata Rata Spending Score (1-100) :', mall1['Spending Score (1-100)'].mean(), \"\\n\");\n",
    "\n",
    "mall2 = mall.loc[(mall['class'] == 2)];\n",
    "print('Cluster 3 : \\nRata Rata Umur : ', mall2['Age'].mean(),'\\nRata Rata Annual Income (k$) :', mall2['Annual Income (k$)'].mean(), '\\nRata Rata Spending Score (1-100) :', mall2['Spending Score (1-100)'].mean(), \"\\n\");\n",
    "\n",
    "mall3 = mall.loc[(mall['class'] == 3)];\n",
    "print('Cluster 4 : \\nRata Rata Umur : ', mall3['Age'].mean(),'\\nRata Rata Annual Income (k$) :', mall3['Annual Income (k$)'].mean(), '\\nRata Rata Spending Score (1-100) :', mall3['Spending Score (1-100)'].mean(), \"\\n\");\n",
    "\n",
    "mall4 = mall.loc[(mall['class'] == 4)];\n",
    "print('Cluster 5 : \\nRata Rata Umur : ', mall4['Age'].mean(),'\\nRata Rata Annual Income (k$) :', mall4['Annual Income (k$)'].mean(), '\\nRata Rata Spending Score (1-100) :', mall4['Spending Score (1-100)'].mean(), \"\\n\");\n",
    "\n",
    "mall5 = mall.loc[(mall['class'] == 5)];\n",
    "print('Cluster 6 : \\nRata Rata Umur : ', mall5['Age'].mean(),'\\nRata Rata Annual Income (k$) :', mall5['Annual Income (k$)'].mean(), '\\nRata Rata Spending Score (1-100) :', mall5['Spending Score (1-100)'].mean(), \"\\n\");"
   ]
  },
  {
   "cell_type": "code",
   "execution_count": 363,
   "metadata": {},
   "outputs": [
    {
     "name": "stdout",
     "output_type": "stream",
     "text": [
      "    Gender_Class  Age  Annual Income (k$)  Spending Score (1-100)  class\n",
      "0              1   19                  15                      39      5\n",
      "1              1   21                  15                      81      4\n",
      "2              0   20                  16                       6      5\n",
      "3              0   23                  16                      77      4\n",
      "4              0   31                  17                      40      5\n",
      "..           ...  ...                 ...                     ...    ...\n",
      "195            0   35                 120                      79      3\n",
      "196            0   45                 126                      28      2\n",
      "197            1   32                 126                      74      3\n",
      "198            1   32                 137                      18      2\n",
      "199            1   30                 137                      83      3\n",
      "\n",
      "[200 rows x 5 columns]\n"
     ]
    }
   ],
   "source": [
    "# penerapan model\n",
    "\n",
    "# load kmeans model\n",
    "loaded_model = pickle.load(open('kmeans_model_mall','rb'));\n",
    "\n",
    "#load data\n",
    "mall_test = pd.read_csv(\"https://raw.githubusercontent.com/shrk-sh-ioai/tubes-ppdp/main/mall-customer-dt/mall-customers.csv\", sep=\",\", encoding='cp1252');\n",
    "\n",
    "mall_test = mall_test[['Gender','Age','Annual Income (k$)','Spending Score (1-100)']];\n",
    "\n",
    "# gender classification ----------\n",
    "gender_classes = ['0','1'];\n",
    "\n",
    "gender_items = [\n",
    "    (mall_test['Gender'] == \"Female\"),\n",
    "    (mall_test['Gender'] == \"Male\"),\n",
    "];\n",
    "\n",
    "mall_test['Gender_Class'] = np.select(gender_items, gender_classes);\n",
    "mall_test = mall_test[['Gender_Class','Age','Annual Income (k$)','Spending Score (1-100)']];\n",
    "\n",
    "mall_test['class'] = loaded_model.predict(np.array(mall_test.values));\n",
    "\n",
    "print(mall_test);"
   ]
  },
  {
   "cell_type": "code",
   "execution_count": 364,
   "metadata": {},
   "outputs": [
    {
     "data": {
      "image/png": "[encoded data removed]",
      "text/plain": [
       "<Figure size 720x504 with 1 Axes>"
      ]
     },
     "metadata": {
      "needs_background": "light"
     },
     "output_type": "display_data"
    }
   ],
   "source": [
    "plt.figure(figsize=(10, 7));\n",
    "plt.title(\"Dendrogram Mall - Single Linkage\");\n",
    "dend = sch.dendrogram(sch.linkage(mall_x_np, method='single'));\n",
    "plt.show();"
   ]
  },
  {
   "cell_type": "code",
   "execution_count": 365,
   "metadata": {},
   "outputs": [
    {
     "name": "stdout",
     "output_type": "stream",
     "text": [
      "[0 0 0 0 0 0 0 0 0 0 0 0 0 0 0 0 0 0 0 0 0 0 0 0 0 0 0 0 0 0 0 0 0 0 0 0 0\n",
      " 0 0 0 0 0 0 0 0 0 0 0 0 0 0 0 0 0 0 0 0 0 0 0 0 0 0 0 0 0 0 0 0 0 0 0 0 0\n",
      " 0 0 0 0 0 0 0 0 0 0 0 0 0 0 0 0 0 0 0 0 0 0 0 0 0 0 0 0 0 0 0 0 0 0 0 0 0\n",
      " 0 0 0 0 0 0 0 0 0 0 0 0 0 0 0 0 0 0 0 0 0 0 0 0 0 0 0 0 0 0 0 0 0 0 0 0 0\n",
      " 0 0 0 0 0 0 0 0 0 0 0 0 0 0 0 0 0 0 0 0 0 0 0 0 0 0 0 0 0 0 0 0 0 0 0 0 0\n",
      " 0 0 0 0 0 0 0 0 0 0 0 0 0 1 0]\n",
      "Time :  0.0019576549530029297\n"
     ]
    }
   ],
   "source": [
    "start = time.time();\n",
    "agglo_model = AgglomerativeClustering(n_clusters=2, affinity='euclidean', linkage='single');\n",
    "agglo_model.fit_predict(mall_x_np);\n",
    "\n",
    "labels = agglo_model.labels_;\n",
    "print(labels);\n",
    "print('Time : ', time.time()-start);"
   ]
  },
  {
   "cell_type": "code",
   "execution_count": 366,
   "metadata": {},
   "outputs": [
    {
     "name": "stdout",
     "output_type": "stream",
     "text": [
      "0.39083611393057793\n"
     ]
    }
   ],
   "source": [
    "score = silhouette_score(mall_x_np, agglo_model.labels_,  metric='euclidean')\n",
    "print(score)"
   ]
  },
  {
   "cell_type": "code",
   "execution_count": 367,
   "metadata": {},
   "outputs": [
    {
     "name": "stdout",
     "output_type": "stream",
     "text": [
      "       Age                                                      \\\n",
      "     count       mean        std   min   25%   50%   75%   max   \n",
      "cls                                                              \n",
      "0    199.0  38.884422  13.995732  18.0  28.5  36.0  49.0  70.0   \n",
      "1      1.0  32.000000        NaN  32.0  32.0  32.0  32.0  32.0   \n",
      "\n",
      "    Annual Income (k$)              ...               Spending Score (1-100)  \\\n",
      "                 count        mean  ...    75%    max                  count   \n",
      "cls                                 ...                                        \n",
      "0                199.0   60.175879  ...   78.0  137.0                  199.0   \n",
      "1                  1.0  137.000000  ...  137.0  137.0                    1.0   \n",
      "\n",
      "                                                         \n",
      "          mean        std   min   25%   50%   75%   max  \n",
      "cls                                                      \n",
      "0    50.361809  25.786806   1.0  35.0  50.0  73.0  99.0  \n",
      "1    18.000000        NaN  18.0  18.0  18.0  18.0  18.0  \n",
      "\n",
      "[2 rows x 24 columns]\n"
     ]
    }
   ],
   "source": [
    "agglo_model.n_clusters\n",
    "\n",
    "labels = agglo_model.labels_\n",
    "df_labels = pd.DataFrame({'cls': labels})\n",
    "\n",
    "df = mall_x.join(df_labels)\n",
    "\n",
    "df_pola = df.groupby(['cls']).describe()\n",
    "print(df_pola)"
   ]
  },
  {
   "cell_type": "code",
   "execution_count": 368,
   "metadata": {},
   "outputs": [
    {
     "data": {
      "image/png": "[encoded data removed]",
      "text/plain": [
       "<Figure size 720x504 with 1 Axes>"
      ]
     },
     "metadata": {
      "needs_background": "light"
     },
     "output_type": "display_data"
    }
   ],
   "source": [
    "plt.figure(figsize=(10, 7));\n",
    "plt.title(\"Dendrogram Mall - Complete Linkage\");\n",
    "dend = sch.dendrogram(sch.linkage(mall_x_np, method='complete'));\n",
    "plt.show();"
   ]
  },
  {
   "cell_type": "code",
   "execution_count": 369,
   "metadata": {},
   "outputs": [
    {
     "name": "stdout",
     "output_type": "stream",
     "text": [
      "0.43997527212476695\n",
      "Time :  0.007463216781616211\n"
     ]
    }
   ],
   "source": [
    "start = time.time();\n",
    "agglo_model = AgglomerativeClustering(n_clusters=5, affinity='euclidean', linkage='complete');\n",
    "agglo_model.fit_predict(mall_x_np);\n",
    "score = silhouette_score(mall_x_np, agglo_model.labels_,  metric='euclidean');\n",
    "print(score);\n",
    "\n",
    "print('Time : ', time.time()-start);"
   ]
  },
  {
   "cell_type": "code",
   "execution_count": 370,
   "metadata": {},
   "outputs": [
    {
     "name": "stdout",
     "output_type": "stream",
     "text": [
      "      Age                                                       \\\n",
      "    count       mean        std   min   25%   50%    75%   max   \n",
      "cls                                                              \n",
      "0    35.0  41.685714  10.897305  19.0  35.0  43.0  47.50  59.0   \n",
      "1    83.0  42.156627  16.533397  18.0  27.0  45.0  54.00  70.0   \n",
      "2    39.0  32.692308   3.728650  27.0  30.0  32.0  35.50  40.0   \n",
      "3    20.0  24.850000   5.029126  18.0  21.0  23.0  29.25  35.0   \n",
      "4    23.0  45.217391  13.228607  19.0  35.5  46.0  53.50  67.0   \n",
      "\n",
      "    Annual Income (k$)             ...               Spending Score (1-100)  \\\n",
      "                 count       mean  ...    75%    max                  count   \n",
      "cls                                ...                                        \n",
      "0                 35.0  88.228571  ...  97.50  137.0                   35.0   \n",
      "1                 83.0  54.759036  ...  62.00   76.0                   83.0   \n",
      "2                 39.0  86.538462  ...  95.00  137.0                   39.0   \n",
      "3                 20.0  24.950000  ...  30.75   38.0                   20.0   \n",
      "4                 23.0  26.304348  ...  33.00   39.0                   23.0   \n",
      "\n",
      "                                                          \n",
      "          mean        std   min   25%   50%    75%   max  \n",
      "cls                                                       \n",
      "0    17.285714  10.211215   1.0  10.0  16.0  23.50  39.0  \n",
      "1    49.771084   6.974387  29.0  44.5  50.0  55.00  65.0  \n",
      "2    82.128205   9.364489  63.0  74.5  83.0  90.00  97.0  \n",
      "3    81.000000   9.514532  66.0  73.0  78.0  88.25  99.0  \n",
      "4    20.913043  13.017167   3.0   9.5  17.0  33.50  40.0  \n",
      "\n",
      "[5 rows x 24 columns]\n"
     ]
    }
   ],
   "source": [
    "agglo_model.n_clusters\n",
    "\n",
    "labels = agglo_model.labels_\n",
    "df_labels = pd.DataFrame({'cls': labels})\n",
    "\n",
    "df = mall_x.join(df_labels)\n",
    "\n",
    "df_pola = df.groupby(['cls']).describe()\n",
    "print(df_pola);"
   ]
  },
  {
   "cell_type": "code",
   "execution_count": 371,
   "metadata": {},
   "outputs": [
    {
     "data": {
      "image/png": "[encoded data removed]",
      "text/plain": [
       "<Figure size 720x504 with 1 Axes>"
      ]
     },
     "metadata": {
      "needs_background": "light"
     },
     "output_type": "display_data"
    }
   ],
   "source": [
    "plt.figure(figsize=(10, 7));\n",
    "plt.title(\"Dendrogram Mall - Centroid Linkage\");\n",
    "dend = sch.dendrogram(sch.linkage(mall_x_np, method='centroid'));\n",
    "plt.show();"
   ]
  },
  {
   "cell_type": "code",
   "execution_count": 372,
   "metadata": {},
   "outputs": [
    {
     "name": "stdout",
     "output_type": "stream",
     "text": [
      "0.4428008535928764\n",
      "Time :  0.008508682250976562\n"
     ]
    }
   ],
   "source": [
    "start = time.time();\n",
    "\n",
    "agglo_model = AgglomerativeClustering(n_clusters=6, affinity='euclidean', linkage='ward');\n",
    "agglo_model.fit_predict(mall_x_np);\n",
    "score = silhouette_score(mall_x_np, agglo_model.labels_,  metric='euclidean');\n",
    "print(score);\n",
    "\n",
    "print('Time : ', time.time()-start);"
   ]
  },
  {
   "cell_type": "code",
   "execution_count": 373,
   "metadata": {},
   "outputs": [
    {
     "name": "stdout",
     "output_type": "stream",
     "text": [
      "      Age                                                        \\\n",
      "    count       mean        std   min    25%   50%    75%   max   \n",
      "cls                                                               \n",
      "0    35.0  41.685714  10.897305  19.0  35.00  43.0  47.50  59.0   \n",
      "1    51.0  53.215686  10.461957  32.0  47.00  50.0  63.00  70.0   \n",
      "2    39.0  32.692308   3.728650  27.0  30.00  32.0  35.50  40.0   \n",
      "3    20.0  24.850000   5.029126  18.0  21.00  23.0  29.25  35.0   \n",
      "4    23.0  45.217391  13.228607  19.0  35.50  46.0  53.50  67.0   \n",
      "5    32.0  24.531250   4.964288  18.0  19.75  24.0  27.25  35.0   \n",
      "\n",
      "    Annual Income (k$)             ...               Spending Score (1-100)  \\\n",
      "                 count       mean  ...    75%    max                  count   \n",
      "cls                                ...                                        \n",
      "0                 35.0  88.228571  ...  97.50  137.0                   35.0   \n",
      "1                 51.0  55.117647  ...  62.00   69.0                   51.0   \n",
      "2                 39.0  86.538462  ...  95.00  137.0                   39.0   \n",
      "3                 20.0  24.950000  ...  30.75   38.0                   20.0   \n",
      "4                 23.0  26.304348  ...  33.00   39.0                   23.0   \n",
      "5                 32.0  54.187500  ...  62.25   76.0                   32.0   \n",
      "\n",
      "                                                          \n",
      "          mean        std   min   25%   50%    75%   max  \n",
      "cls                                                       \n",
      "0    17.285714  10.211215   1.0  10.0  16.0  23.50  39.0  \n",
      "1    49.470588   6.070759  40.0  44.5  49.0  55.00  60.0  \n",
      "2    82.128205   9.364489  63.0  74.5  83.0  90.00  97.0  \n",
      "3    81.000000   9.514532  66.0  73.0  78.0  88.25  99.0  \n",
      "4    20.913043  13.017167   3.0   9.5  17.0  33.50  40.0  \n",
      "5    50.250000   8.296910  29.0  45.0  51.5  55.25  65.0  \n",
      "\n",
      "[6 rows x 24 columns]\n"
     ]
    }
   ],
   "source": [
    "agglo_model.n_clusters\n",
    "\n",
    "labels = agglo_model.labels_\n",
    "df_labels = pd.DataFrame({'cls': labels})\n",
    "\n",
    "df = mall_x.join(df_labels)\n",
    "\n",
    "df_pola = df.groupby(['cls']).describe()\n",
    "print(df_pola);"
   ]
  }
 ],
 "metadata": {
  "kernelspec": {
   "display_name": "Python 3.8.5 32-bit",
   "language": "python",
   "name": "python3"
  },
  "language_info": {
   "codemirror_mode": {
    "name": "ipython",
    "version": 3
   },
   "file_extension": ".py",
   "mimetype": "text/x-python",
   "name": "python",
   "nbconvert_exporter": "python",
   "pygments_lexer": "ipython3",
   "version": "3.8.5"
  },
  "orig_nbformat": 4,
  "vscode": {
   "interpreter": {
    "hash": "7e391e6a0b49cd371207b6d1446747f6b0809d4961742e4a06ba0659d71a6059"
   }
  }
 },
 "nbformat": 4,
 "nbformat_minor": 2
}
